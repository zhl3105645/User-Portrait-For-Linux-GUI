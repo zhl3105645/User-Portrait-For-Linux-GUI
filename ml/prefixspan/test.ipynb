{
 "cells": [
  {
   "cell_type": "code",
   "execution_count": null,
   "metadata": {},
   "outputs": [],
   "source": [
    "################## 全局变量\r\n",
    "# 数据路径\r\n",
    "dir_path = \"D:\\\\hadoop_data\\\\event_data\\\\2\"\r\n",
    "# 区分事件数据的index\r\n",
    "event_indexs = [0, 3, 4,6,8] # 事件类型 鼠标点击类型 鼠标点击按键 键盘点击类型 组件名\r\n",
    "# prefix db 最大长度\r\n",
    "max_seq_length = 100 \r\n",
    "# 过长序列长度\r\n",
    "same_seq_length = 5"
   ]
  },
  {
   "cell_type": "code",
   "execution_count": null,
   "metadata": {},
   "outputs": [],
   "source": [
    "from prefixspan import PrefixSpan\r\n",
    "import os\r\n",
    "import pandas as pd\r\n",
    "import json\r\n",
    "\r\n",
    "# 读取行为原始数据 [][][]\r\n",
    "def load_data():\r\n",
    "    paths = os.listdir(dir_path)\r\n",
    "    print(paths)\r\n",
    "    data = []\r\n",
    "    for idx in range(len(paths)):\r\n",
    "        path = paths[idx]\r\n",
    "        strs = path.split(\"_\")\r\n",
    "        if len(strs) != 2:\r\n",
    "            return\r\n",
    "        df = pd.read_csv(dir_path + \"/\" + path)\r\n",
    "        df = df.fillna(\"\")\r\n",
    "        data.append(df.values)\r\n",
    "    return data\r\n",
    "event_data = load_data()\r\n",
    "print(event_data)"
   ]
  },
  {
   "cell_type": "code",
   "execution_count": null,
   "metadata": {},
   "outputs": [],
   "source": [
    "from prefixspan import PrefixSpan\r\n",
    "import os\r\n",
    "import pandas as pd\r\n",
    "import json\r\n",
    "\r\n",
    "# 将单条记录转换成可区分event\r\n",
    "def get_custom_event(event):\r\n",
    "    custom_event = \"\"\r\n",
    "    if str(event[0]) == \"4\":\r\n",
    "        return \"\" # 去除鼠标移动事件\r\n",
    "    for idx in range(len(event_indexs)):\r\n",
    "        event_idx = event_indexs[idx]\r\n",
    "        custom_event = custom_event +\"|\"+ str(event[event_idx])\r\n",
    "    return custom_event\r\n",
    "\r\n",
    "# 区分事件，并对其编号\r\n",
    "def number_event(data):\r\n",
    "    # custom_event -> number \r\n",
    "    res = {}\r\n",
    "    number = 1\r\n",
    "    # 记录\r\n",
    "    for i in range(len(data)):\r\n",
    "        events = data[i]\r\n",
    "        # 事件\r\n",
    "        for idx in range(len(events)):\r\n",
    "            event = events[idx]\r\n",
    "            custom_event = get_custom_event(event)\r\n",
    "            if custom_event == \"\":\r\n",
    "                continue\r\n",
    "            if custom_event in res.keys():\r\n",
    "                continue\r\n",
    "            res[custom_event] = number\r\n",
    "            number = number + 1    \r\n",
    "    return res \r\n",
    "\r\n",
    "event2number = number_event(event_data)\r\n",
    "print(event2number)\r\n",
    "json_str = json.dumps(event2number, indent=4)\r\n",
    "with open('./event2number.json', 'w') as json_file:\r\n",
    "    json_file.write(json_str)"
   ]
  },
  {
   "cell_type": "code",
   "execution_count": null,
   "metadata": {},
   "outputs": [],
   "source": [
    "from prefixspan import PrefixSpan\r\n",
    "import os\r\n",
    "import pandas as pd\r\n",
    "import json\r\n",
    "\r\n",
    "\r\n",
    "# 将事件数据转换成编号序列 [][]\r\n",
    "def get_number_data(event_data, event2number):\r\n",
    "    res = []\r\n",
    "    for i in range(len(event_data)):\r\n",
    "        events = event_data[i]\r\n",
    "        single_res = []\r\n",
    "        # 事件\r\n",
    "        last_number = -1 # 将过长的序列 -> 限制长度为5\r\n",
    "        cur_number_length = 0\r\n",
    "        for idx in range(len(events)):\r\n",
    "            event = events[idx]\r\n",
    "            custom_event = get_custom_event(event)\r\n",
    "            if custom_event in event2number.keys():\r\n",
    "                number = event2number[custom_event]\r\n",
    "                if number == last_number:\r\n",
    "                    cur_number_length = cur_number_length + 1\r\n",
    "                    if cur_number_length >= same_seq_length:\r\n",
    "                        continue # 截断\r\n",
    "                else:\r\n",
    "                    cur_number_length = 1\r\n",
    "                last_number = number\r\n",
    "                single_res.append(number)\r\n",
    "        if len(single_res) > 0:\r\n",
    "            res.append(single_res)\r\n",
    "    return res \r\n",
    "\r\n",
    "numbers = get_number_data(event_data, event2number)\r\n",
    "print(numbers)"
   ]
  },
  {
   "cell_type": "code",
   "execution_count": 10,
   "metadata": {},
   "outputs": [
    {
     "name": "stdout",
     "output_type": "stream",
     "text": [
      "57\n"
     ]
    }
   ],
   "source": [
    "# 将数组按照size划分\r\n",
    "def arr_size(arr,size):\r\n",
    "    s=[]\r\n",
    "    for i in range(0,int(len(arr))+1,size):\r\n",
    "        if i+size<=len(arr):\r\n",
    "            c=arr[i:i+size]\r\n",
    "            s.append(c)\r\n",
    "        else:\r\n",
    "            c=arr[i:len(arr)]\r\n",
    "            s.append(c)\r\n",
    "    newlist = [x for x in s if x]\r\n",
    "    return newlist\r\n",
    "\r\n",
    "def split_number(numbers):\r\n",
    "    res = []\r\n",
    "    for idx in range(len(numbers)):\r\n",
    "        arrs = arr_size(numbers[idx], max_seq_length)\r\n",
    "        for jdx in range(len(arrs)):\r\n",
    "            res.append(arrs[jdx])\r\n",
    "    return res\r\n",
    "\r\n",
    "db = split_number(numbers)\r\n",
    "print(len(db))"
   ]
  },
  {
   "cell_type": "code",
   "execution_count": 11,
   "metadata": {},
   "outputs": [
    {
     "name": "stdout",
     "output_type": "stream",
     "text": [
      "prefixSpan run begin. time =  2023-04-26 21:21:58.586581\n",
      "db length= 19\n",
      "fre =  5.7\n",
      "[(18, [52, 53, 53, 54]), (13, [52, 53, 53, 53, 54]), (13, [52, 53, 53, 118, 54]), (11, [52, 53, 53, 53, 118, 54]), (8, [52, 53, 53, 53, 53, 54]), (8, [52, 53, 53, 117, 54]), (8, [52, 53, 53, 118, 53, 54]), (8, [52, 53, 53, 118, 53, 118, 54]), (8, [52, 53, 53, 118, 118, 54]), (8, [52, 53, 118, 53, 53, 118, 54])]\n",
      "prefixSpan run stop. time =  2023-04-26 21:21:58.879380\n"
     ]
    }
   ],
   "source": [
    "from prefixspan import PrefixSpan\r\n",
    "import datetime\r\n",
    "\r\n",
    "def prefixDemo(db, fre):\r\n",
    "    print(\"db length=\", len(db))\r\n",
    "    print(\"fre = \", fre)\r\n",
    "\r\n",
    "    ps = PrefixSpan(db)\r\n",
    "    res = ps.topk(10,closed=True)\r\n",
    "    print(res)\r\n",
    "    with open('./res.txt', 'w') as file:\r\n",
    "        file.write(str(res))\r\n",
    "    \r\n",
    "    # print(ps.frequent(2, closed=True))\r\n",
    "    # print(ps.topk(5, closed=True))\r\n",
    "    # print(ps.frequent(2, generator=True))\r\n",
    "    # print(ps.topk(5, generator=True))\r\n",
    "\r\n",
    "print(\"prefixSpan run begin. time = \", datetime.datetime.now())\r\n",
    "prefixDemo(numbers, len(numbers) * 0.3)\r\n",
    "print(\"prefixSpan run stop. time = \", datetime.datetime.now())\r\n"
   ]
  }
 ],
 "metadata": {
  "kernelspec": {
   "display_name": "Python 3.9.8 64-bit",
   "name": "python398jvsc74a57bd0cf435912e9e8aa933f5ba11766e36337d76df5880a66f96005e4a7652a241405"
  },
  "language_info": {
   "name": "python",
   "version": ""
  },
  "metadata": {
   "interpreter": {
    "hash": "cf435912e9e8aa933f5ba11766e36337d76df5880a66f96005e4a7652a241405"
   }
  },
  "orig_nbformat": 2
 },
 "nbformat": 4,
 "nbformat_minor": 2
}