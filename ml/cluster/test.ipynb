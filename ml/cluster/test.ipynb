{
 "cells": [
  {
   "cell_type": "code",
   "execution_count": 1,
   "metadata": {},
   "outputs": [],
   "source": [
    "from sklearn.datasets import load_iris\r\n",
    "iris = load_iris()"
   ]
  },
  {
   "cell_type": "code",
   "execution_count": null,
   "metadata": {},
   "outputs": [],
   "source": [
    "print(iris)"
   ]
  },
  {
   "cell_type": "code",
   "execution_count": null,
   "metadata": {},
   "outputs": [],
   "source": [
    "import pandas as pd\r\n",
    "col_names = ['a', 'b', 'c', 'd']\r\n",
    "df = pd.DataFrame(iris.data, columns=col_names)\r\n",
    "print(df)\r\n",
    "df.to_csv('./test_data.csv', index=False)"
   ]
  }
 ],
 "metadata": {
  "kernelspec": {
   "display_name": "Python 3.9.8 64-bit",
   "name": "python398jvsc74a57bd0cf435912e9e8aa933f5ba11766e36337d76df5880a66f96005e4a7652a241405"
  },
  "language_info": {
   "name": "python",
   "version": ""
  },
  "metadata": {
   "interpreter": {
    "hash": "cf435912e9e8aa933f5ba11766e36337d76df5880a66f96005e4a7652a241405"
   }
  },
  "orig_nbformat": 2
 },
 "nbformat": 4,
 "nbformat_minor": 2
}