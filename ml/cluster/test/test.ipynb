{
 "cells": [
  {
   "cell_type": "code",
   "execution_count": 11,
   "metadata": {},
   "outputs": [],
   "source": [
    "# 转换数据\r\n",
    "import pandas as pd\r\n",
    "import json\r\n",
    "\r\n",
    "descMap = {67: \"编码\", 68:\"测试\",69: \"调试\", 70:\"浏览\", 71: \"使用工具\"}\r\n",
    "\r\n",
    "# 读取 CSV 文件\r\n",
    "df = pd.read_csv('../data/origin_data2.csv')\r\n",
    "\r\n",
    "# 处理第二列数据\r\n",
    "def expand_column(row):\r\n",
    "    data = json.loads(row['behavior_duration_map'])\r\n",
    "    for key, value in data.items():\r\n",
    "        if int(key) <= 0:\r\n",
    "            continue\r\n",
    "        row[descMap[int(key)]] = value\r\n",
    "    return row\r\n",
    "\r\n",
    "df = df.apply(expand_column, axis=1)\r\n",
    "\r\n",
    "# 删除原始数据列\r\n",
    "df = df.drop('behavior_duration_map', axis=1)\r\n",
    "\r\n",
    "\r\n",
    "# 空数据\r\n",
    "df = df.fillna(0)\r\n",
    "\r\n",
    "# 保存结果\r\n",
    "df.to_csv('../data/test_data2.csv', index=False)"
   ]
  },
  {
   "cell_type": "code",
   "execution_count": 23,
   "metadata": {},
   "outputs": [
    {
     "data": {
      "image/png": "[encoded data removed]",
      "text/plain": "<Figure size 640x480 with 1 Axes>"
     },
     "metadata": {},
     "output_type": "display_data"
    }
   ],
   "source": [
    "import matplotlib.pyplot as plt\r\n",
    "import numpy as np\r\n",
    "\r\n",
    "# 假设你有三组数据，每组数据有五个数字\r\n",
    "data = [[1, 2, 3, 4, 5],\r\n",
    "        [2, 3, 4, 5, 6],\r\n",
    "        [3, 4, 5, 6, 7]]\r\n",
    "\r\n",
    "# 设置柱状图的宽度\r\n",
    "bar_width = 0.1\r\n",
    "\r\n",
    "# 设置柱状图的位置\r\n",
    "x1 = np.arange(len(data))\r\n",
    "x2 = [x + bar_width for x in x1]\r\n",
    "x3 = [x + bar_width for x in x2]\r\n",
    "x4 = [x + bar_width for x in x3]\r\n",
    "x5 = [x + bar_width for x in x4]\r\n",
    "\r\n",
    "# 绘制柱状图\r\n",
    "plt.bar(x1, [row[0] for row in data], width=bar_width, label='Group A')\r\n",
    "plt.bar(x2, [row[1] for row in data], width=bar_width, label='Group B')\r\n",
    "plt.bar(x3, [row[2] for row in data], width=bar_width, label='Group C')\r\n",
    "plt.bar(x4, [row[3] for row in data], width=bar_width, label='Group D')\r\n",
    "plt.bar(x5, [row[4] for row in data], width=bar_width, label='Group E')\r\n",
    "\r\n",
    "# 设置x轴刻度\r\n",
    "plt.xticks([x + 2 * bar_width for x in x1], ['A', 'B', 'C'])\r\n",
    "\r\n",
    "# 添加图例\r\n",
    "plt.legend()\r\n",
    "\r\n",
    "# 显示图形\r\n",
    "plt.show()"
   ]
  },
  {
   "cell_type": "code",
   "execution_count": 18,
   "metadata": {},
   "outputs": [
    {
     "name": "stdout",
     "output_type": "stream",
     "text": [
      "[2, 5, 8]\n"
     ]
    }
   ],
   "source": [
    "# 假设你有一个二维数组\r\n",
    "data = [[1, 2, 3],\r\n",
    "        [4, 5, 6],\r\n",
    "        [7, 8, 9]]\r\n",
    "\r\n",
    "# 获取第二维数字为1，第一维数字不固定的数据\r\n",
    "result = [row[1] for row in data]\r\n",
    "\r\n",
    "# 输出结果\r\n",
    "print(result)"
   ]
  }
 ],
 "metadata": {
  "kernelspec": {
   "display_name": "Python 3.9.8 64-bit",
   "name": "python398jvsc74a57bd0cf435912e9e8aa933f5ba11766e36337d76df5880a66f96005e4a7652a241405"
  },
  "language_info": {
   "codemirror_mode": {
    "name": "ipython",
    "version": 3
   },
   "file_extension": ".py",
   "mimetype": "text/x-python",
   "name": "python",
   "nbconvert_exporter": "python",
   "pygments_lexer": "ipython3",
   "version": "3.9.8"
  },
  "metadata": {
   "interpreter": {
    "hash": "cf435912e9e8aa933f5ba11766e36337d76df5880a66f96005e4a7652a241405"
   }
  },
  "orig_nbformat": 3
 },
 "nbformat": 4,
 "nbformat_minor": 2
}