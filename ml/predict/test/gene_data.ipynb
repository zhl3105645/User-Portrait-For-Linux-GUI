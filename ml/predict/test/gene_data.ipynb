{
 "cells": [
  {
   "cell_type": "code",
   "execution_count": 6,
   "metadata": {},
   "outputs": [],
   "source": [
    "# 转换数据\r\n",
    "import pandas as pd\r\n",
    "import json\r\n",
    "\r\n",
    "# 读取 CSV 文件\r\n",
    "df = pd.read_csv('../data/origin_data.csv')\r\n",
    "# 去除空数据\r\n",
    "#df = df[df['data'] != '']\r\n",
    "\r\n",
    "# 删除原始数据列\r\n",
    "df = df.drop('user_id', axis=1)\r\n",
    "\r\n",
    "# 空数据\r\n",
    "df = df.dropna()\r\n",
    "\r\n",
    "# 保存结果\r\n",
    "df.to_csv('../data/event_rule_data.csv', index=False)"
   ]
  },
  {
   "cell_type": "code",
   "execution_count": 8,
   "metadata": {},
   "outputs": [],
   "source": [
    "# 事件规则数据转换成事件id列表 \r\n",
    "\r\n",
    "import pandas as pd\r\n",
    "df = pd.read_csv('../data/event_rule_data.csv')\r\n",
    "# data = df.values\r\n",
    "event_rule_data = df.iloc[:,0]\r\n",
    "csvData = [ [x.split(\",\")[0] for x in data.strip(\")\").strip(\"(\").split(\")(\")]  for data in event_rule_data ]\r\n",
    "\r\n",
    "#print(csvData)\r\n",
    "\r\n",
    "df2 = pd.DataFrame(csvData)\r\n",
    "\r\n",
    "df2.to_csv('../data/event_rule_ids_data.csv', index=False)"
   ]
  },
  {
   "cell_type": "code",
   "execution_count": 10,
   "metadata": {},
   "outputs": [],
   "source": [
    "# 事件ID列表转换成编码\r\n",
    "# 原始数据 存在-1，-2\r\n",
    "# 测试数据 整体+2\r\n",
    "\r\n",
    "import pandas as pd\r\n",
    "import numpy as np\r\n",
    "\r\n",
    "step = 16\r\n",
    "\r\n",
    "df = pd.read_csv('../data/event_rule_ids_data.csv')\r\n",
    "data = df.values\r\n",
    "\r\n",
    "test_data = []\r\n",
    "\r\n",
    "for idx in range(len(data)):\r\n",
    "    d = data[idx]\r\n",
    "    for idx in range(len(d)):\r\n",
    "        start = idx \r\n",
    "        end = idx + step - 1\r\n",
    "        if end >= len(d):\r\n",
    "            continue\r\n",
    "        if pd.isnull(d[end]) or np.isnan(d[end]):\r\n",
    "            continue\r\n",
    "        seq = d[start:end+1] + 2\r\n",
    "        # print(seq)\r\n",
    "        test_data.append(seq)\r\n",
    "column = [ 'event_id_' + str(idx) for idx in range(0, step-1)]\r\n",
    "column.append('next_event_id')\r\n",
    "\r\n",
    "df2 = pd.DataFrame(test_data,columns=column)\r\n",
    "\r\n",
    "df2.to_csv('../data/test_data.csv', index=False)"
   ]
  }
 ],
 "metadata": {
  "kernelspec": {
   "display_name": "Python 3.9.8 64-bit",
   "name": "python398jvsc74a57bd0cf435912e9e8aa933f5ba11766e36337d76df5880a66f96005e4a7652a241405"
  },
  "language_info": {
   "name": "python",
   "version": ""
  },
  "metadata": {
   "interpreter": {
    "hash": "cf435912e9e8aa933f5ba11766e36337d76df5880a66f96005e4a7652a241405"
   }
  },
  "orig_nbformat": 3
 },
 "nbformat": 4,
 "nbformat_minor": 2
}