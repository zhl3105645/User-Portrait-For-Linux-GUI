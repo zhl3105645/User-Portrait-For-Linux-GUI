{
 "cells": [
  {
   "cell_type": "code",
   "execution_count": null,
   "metadata": {},
   "outputs": [],
   "source": [
    "# 事件规则数据转换成事件id列表 \r\n",
    "\r\n",
    "import pandas as pd\r\n",
    "df = pd.read_csv('event_rule_data.csv')\r\n",
    "# data = df.values\r\n",
    "event_rule_data = df.iloc[:,0]\r\n",
    "csvData = [ [x.split(\",\")[0] for x in data.strip(\")\").strip(\"(\").split(\")(\")]  for data in event_rule_data ]\r\n",
    "\r\n",
    "#print(csvData)\r\n",
    "\r\n",
    "df2 = pd.DataFrame(csvData)\r\n",
    "\r\n",
    "df2.to_csv('event_rule_ids_data.csv', index=False)"
   ]
  },
  {
   "cell_type": "code",
   "execution_count": 13,
   "metadata": {},
   "outputs": [],
   "source": [
    "# 事件ID列表转换成编码\r\n",
    "# 原始数据 存在-1，-2\r\n",
    "# 测试数据 整体+2\r\n",
    "\r\n",
    "import pandas as pd\r\n",
    "import numpy as np\r\n",
    "\r\n",
    "step = 16\r\n",
    "\r\n",
    "df = pd.read_csv('event_rule_ids_data.csv')\r\n",
    "data = df.values\r\n",
    "\r\n",
    "test_data = []\r\n",
    "\r\n",
    "for idx in range(len(data)):\r\n",
    "    d = data[idx]\r\n",
    "    for idx in range(len(d)):\r\n",
    "        start = idx \r\n",
    "        end = idx + step - 1\r\n",
    "        if end >= len(d):\r\n",
    "            continue\r\n",
    "        if pd.isnull(d[end]) or np.isnan(d[end]):\r\n",
    "            continue\r\n",
    "        seq = d[start:end+1] + 2\r\n",
    "        # print(seq)\r\n",
    "        test_data.append(seq)\r\n",
    "column = [ 'event_id_' + str(idx) for idx in range(0, step-1)]\r\n",
    "column.append('next_event_id')\r\n",
    "\r\n",
    "df2 = pd.DataFrame(test_data,columns=column)\r\n",
    "\r\n",
    "df2.to_csv('test_data.csv', index=False)"
   ]
  }
 ],
 "metadata": {
  "kernelspec": {
   "display_name": "Python 3.9.8 64-bit",
   "name": "python398jvsc74a57bd0cf435912e9e8aa933f5ba11766e36337d76df5880a66f96005e4a7652a241405"
  },
  "language_info": {
   "codemirror_mode": {
    "name": "ipython",
    "version": 3
   },
   "file_extension": ".py",
   "mimetype": "text/x-python",
   "name": "python",
   "nbconvert_exporter": "python",
   "pygments_lexer": "ipython3",
   "version": "3.9.8"
  },
  "metadata": {
   "interpreter": {
    "hash": "cf435912e9e8aa933f5ba11766e36337d76df5880a66f96005e4a7652a241405"
   }
  },
  "orig_nbformat": 2
 },
 "nbformat": 4,
 "nbformat_minor": 2
}