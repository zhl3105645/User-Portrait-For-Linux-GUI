{
 "cells": [
  {
   "cell_type": "code",
   "execution_count": 38,
   "metadata": {},
   "outputs": [],
   "source": [
    "import numpy as np\r\n",
    "import torch\r\n",
    "import pandas as pd\r\n",
    "from torch import nn\r\n",
    "from torch.utils.data import TensorDataset, DataLoader\r\n",
    "\r\n",
    "# 加载测试数据\r\n",
    "sequence_length = 16\r\n",
    "num_classes = 69 # 66+2\r\n",
    "\r\n",
    "df = pd.read_csv('test_data.csv')\r\n",
    "# # print(df)\r\n",
    "nrows, ncols = df.shape\r\n",
    "\r\n",
    "X = df.iloc[:,0:sequence_length - 1].astype(int).values\r\n",
    "X = np.reshape(X, (nrows, ncols-1, 1)) # 三维\r\n",
    "y = df.iloc[:, sequence_length-1].astype(int).values\r\n",
    "y = np.eye(num_classes)[y]\r\n",
    "# print('X=', X)\r\n",
    "# print('y=', y)\r\n",
    "\r\n",
    "X = torch.tensor(X, dtype=torch.float32)\r\n",
    "y = torch.tensor(y, dtype=torch.long)\r\n",
    "\r\n",
    "dataset = TensorDataset(X, y)\r\n",
    "dataloader = DataLoader(dataset, batch_size=32)"
   ]
  },
  {
   "cell_type": "code",
   "execution_count": null,
   "metadata": {},
   "outputs": [],
   "source": [
    "print(X)\r\n",
    "print(y)"
   ]
  },
  {
   "cell_type": "code",
   "execution_count": 17,
   "metadata": {},
   "outputs": [],
   "source": [
    "import numpy as np\r\n",
    "import torch\r\n",
    "from torch import nn\r\n",
    "from torch.utils.data import TensorDataset, DataLoader\r\n",
    "\r\n",
    "# 构建模型\r\n",
    "class Model(nn.Module):\r\n",
    "    def __init__(self, input_size, hidden_size, num_classes):\r\n",
    "        super(Model, self).__init__()\r\n",
    "        self.lstm = nn.LSTM(input_size, hidden_size)\r\n",
    "        self.fc = nn.Linear(hidden_size, num_classes)\r\n",
    "    \r\n",
    "    def forward(self, x):\r\n",
    "        out, _ = self.lstm(x)\r\n",
    "        out = self.fc(out[:, -1, :])\r\n",
    "        return out\r\n",
    "\r\n",
    "model = Model(1, 16, num_classes)\r\n",
    "criterion = nn.CrossEntropyLoss()\r\n",
    "optimizer = torch.optim.Adam(model.parameters())\r\n",
    "\r\n",
    "# 训练模型\r\n",
    "for epoch in range(100):\r\n",
    "    for batch_X, batch_y in dataloader:\r\n",
    "        # 前向传播\r\n",
    "        outputs = model(batch_X)\r\n",
    "        loss = criterion(outputs, torch.max(batch_y, 1)[1])\r\n",
    "        \r\n",
    "        # 反向传播和优化\r\n",
    "        optimizer.zero_grad()\r\n",
    "        loss.backward()\r\n",
    "        optimizer.step()"
   ]
  },
  {
   "cell_type": "code",
   "execution_count": null,
   "metadata": {},
   "outputs": [],
   "source": [
    "import numpy as np\r\n",
    "import torch\r\n",
    "from torch import nn\r\n",
    "from torch.utils.data import TensorDataset, DataLoader\r\n",
    "\r\n",
    "# 预测下一次事件各个编号的出现概率\r\n",
    "current_sequence = np.random.randint(num_classes, size=(1, sequence_length, 1))\r\n",
    "current_sequence = torch.tensor(current_sequence, dtype=torch.float32)\r\n",
    "print(current_sequence)\r\n",
    "next_event_prob = model(current_sequence)\r\n",
    "next_event_prob = nn.functional.softmax(next_event_prob, dim=1)\r\n",
    "next_event_prob = next_event_prob.detach().numpy().flatten()\r\n",
    "print(next_event_prob)"
   ]
  },
  {
   "cell_type": "code",
   "execution_count": 36,
   "metadata": {},
   "outputs": [
    {
     "data": {
      "image/png": "[encoded data removed]",
      "text/plain": "<Figure size 640x480 with 1 Axes>"
     },
     "metadata": {},
     "output_type": "display_data"
    }
   ],
   "source": [
    "import matplotlib.pyplot as plt\r\n",
    "\r\n",
    "# 绘制条形图\r\n",
    "plt.bar(range(len(next_event_prob)), next_event_prob)\r\n",
    "plt.xticks(range(len(next_event_prob)),  rotation='270')\r\n",
    "plt.xlabel('Event')\r\n",
    "plt.ylabel('Probability')\r\n",
    "plt.show()"
   ]
  }
 ],
 "metadata": {
  "kernelspec": {
   "display_name": "Python 3.9.8 64-bit",
   "name": "python398jvsc74a57bd0cf435912e9e8aa933f5ba11766e36337d76df5880a66f96005e4a7652a241405"
  },
  "language_info": {
   "codemirror_mode": {
    "name": "ipython",
    "version": 3
   },
   "file_extension": ".py",
   "mimetype": "text/x-python",
   "name": "python",
   "nbconvert_exporter": "python",
   "pygments_lexer": "ipython3",
   "version": "3.9.8"
  },
  "metadata": {
   "interpreter": {
    "hash": "cf435912e9e8aa933f5ba11766e36337d76df5880a66f96005e4a7652a241405"
   }
  },
  "orig_nbformat": 2
 },
 "nbformat": 4,
 "nbformat_minor": 2
}